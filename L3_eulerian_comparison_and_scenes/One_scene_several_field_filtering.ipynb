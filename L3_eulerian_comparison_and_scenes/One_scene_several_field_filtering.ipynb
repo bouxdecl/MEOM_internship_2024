{
 "cells": [
  {
   "cell_type": "markdown",
   "id": "5485e86b-8e58-4799-855e-998e2a8cd626",
   "metadata": {},
   "source": [
    "# One scene with 5 field spatial filters \n",
    "- see the spatial filtering"
   ]
  },
  {
   "cell_type": "markdown",
   "id": "49181e3d",
   "metadata": {},
   "source": [
    "#### Imports"
   ]
  },
  {
   "cell_type": "code",
   "execution_count": 2,
   "id": "55973052-68ff-49b9-9edc-fe35e0e0c008",
   "metadata": {},
   "outputs": [],
   "source": [
    "import sys\n",
    "import os\n",
    "\n",
    "import numpy as np\n",
    "import xarray as xr\n",
    "\n",
    "sys.path.append(os.path.abspath(os.path.join('..', 'common_utils')))\n",
    "from utils import *\n",
    "from utils_plots import plot_scene\n",
    "import Drifters_processing\n",
    "\n",
    "%matplotlib inline\n",
    "import matplotlib\n",
    "from matplotlib import pyplot as plt\n",
    "matplotlib.rcParams['figure.dpi'] = 300\n",
    "\n",
    "\n",
    "\n",
    "path_save_data = '/home/bouxdecl/Documents/MEOM_internship_2024/save_data/drifters_scenes'"
   ]
  },
  {
   "cell_type": "markdown",
   "id": "dd5d39e3-5166-4cd2-9a16-c1a5cb2ca010",
   "metadata": {},
   "source": [
    "## Load fields and one trajectory"
   ]
  },
  {
   "cell_type": "code",
   "execution_count": 6,
   "id": "ce02fbb6",
   "metadata": {},
   "outputs": [],
   "source": [
    "# L3 field data\n",
    "path_fields = '../save_data/fields_data'\n",
    "ds_swot = xr.open_dataset(os.path.join(path_fields, 'field_L3SWOT.nc'))\n",
    "\n",
    "ds_swot_0point5km = xr.open_dataset(os.path.join(path_fields, 'field_L3SWOT_Noneh_0.5km_filter.nc'))\n",
    "ds_swot_24h_2km = add_Tgrid_velocities(xr.open_dataset(os.path.join(path_fields, 'field_L3SWOT_24h_2km_filter.nc')), replace=True)\n",
    "ds_swot_3point5km = xr.open_dataset(os.path.join(path_fields, 'field_L3SWOT_3point5km_Noneh.nc'))\n",
    "ds_swot_5km = xr.open_dataset(os.path.join(path_fields, 'field_L3SWOT_5km_Noneh.nc'))"
   ]
  },
  {
   "cell_type": "code",
   "execution_count": 7,
   "id": "6cb23d22",
   "metadata": {},
   "outputs": [],
   "source": [
    "scenes_directory = '../save_data/drifters_scenes'\n",
    "\n",
    "# select one trajectory for several field filtering\n",
    "scenes_05km      = xr.open_dataset(os.path.join(scenes_directory, 'Scenes_0point5kmfilterfield_48hfilterdrifter/2024-07-15_Scene_0point5kmfield_48hdrifter_file_3_idxid_5.nc'))\n",
    "scenes_2km       = xr.open_dataset(os.path.join(scenes_directory, 'Scenes_2kmfilterfield_48hfilterfield/2024-07-15_test_file_3_idxid_5.nc'))\n",
    "scenes_3point5km = xr.open_dataset(os.path.join(scenes_directory, 'Scenes_3point5kmfilterfield_48hfilterdrifter/2024-07-15_Scene_3point5kmfield_48hdrifter_file_3_idxid_5.nc'))\n",
    "scenes_5km       = xr.open_dataset(os.path.join(scenes_directory, 'Scenes_5kmfilterfield_48hfilterdrifter/2024-07-15_test2_file_3_idxid_5.nc'))\n",
    "\n",
    "# add metric\n",
    "scenes_05km      = Drifters_processing.add_metrics( scenes_05km.rename_vars({'u_geo':'u_geo_swot', 'v_geo':'v_geo_swot', 'u_var':'u_var_swot', 'v_var':'v_var_swot'}) )\n",
    "scenes_2km       = Drifters_processing.add_metrics(scenes_2km)\n",
    "scenes_3point5km = Drifters_processing.add_metrics( scenes_3point5km.rename_vars({'u_geo':'u_geo_swot', 'v_geo':'v_geo_swot', 'u_var':'u_var_swot', 'v_var':'v_var_swot'}) )\n",
    "scenes_5km       = Drifters_processing.add_metrics( scenes_5km.rename_vars({'u_geo':'u_geo_swot', 'v_geo':'v_geo_swot', 'u_var':'u_var_swot', 'v_var':'v_var_swot'}) )"
   ]
  },
  {
   "cell_type": "markdown",
   "id": "a7f3659a",
   "metadata": {},
   "source": [
    "### one scene\n",
    "FILES_SVP=3, Traj=5, Scene=6 \n",
    "\n",
    "Saves this scene with each filed filtering"
   ]
  },
  {
   "cell_type": "code",
   "execution_count": 8,
   "id": "93bba45b",
   "metadata": {},
   "outputs": [
    {
     "name": "stderr",
     "output_type": "stream",
     "text": [
      "/home/bouxdecl/miniconda3/envs/gdp6h_duacs_jaxparrow/lib/python3.10/site-packages/cartopy/mpl/geoaxes.py:1642: UserWarning: The following kwargs were not used by contour: 'label'\n",
      "  result = super().contourf(*args, **kwargs)\n"
     ]
    }
   ],
   "source": [
    "i = 6\n",
    "\n",
    "ds    = scenes_05km.isel(scene=i)\n",
    "field = ds_swot\n",
    "filter= 0\n",
    "\n",
    "plot_scene(ds, field, \n",
    "           \n",
    "           field_vec='both', time_point=5, points_hours=10, \n",
    "           \n",
    "           add_title='\\nMetric norma geo:{:.2f} ; cyclo: {:.2f}'.format(ds.metric_norma_geo.mean('s_obs'), ds.metric_norma_var.mean('s_obs')),\n",
    "           plot=False,\n",
    "           save_name='Scene_compare_fieldfilter_{}km'.format(filter),\n",
    "           save_dir= '/home/bouxdecl/Documents/MEOM_internship_2024/save_plots/save_plots_onescene_differentfieldfilter'\n",
    "           )"
   ]
  },
  {
   "cell_type": "code",
   "execution_count": 10,
   "id": "bf6e518c",
   "metadata": {},
   "outputs": [
    {
     "name": "stderr",
     "output_type": "stream",
     "text": [
      "/home/bouxdecl/miniconda3/envs/gdp6h_duacs_jaxparrow/lib/python3.10/site-packages/cartopy/mpl/geoaxes.py:1642: UserWarning: The following kwargs were not used by contour: 'label'\n",
      "  result = super().contourf(*args, **kwargs)\n"
     ]
    }
   ],
   "source": [
    "i = 6\n",
    "\n",
    "ds    = scenes_05km.isel(scene=i)\n",
    "field = ds_swot_0point5km\n",
    "filter= 0.5\n",
    "\n",
    "plot_scene(ds, field, \n",
    "           \n",
    "           field_vec='both', time_point=5, points_hours=10, \n",
    "           \n",
    "           add_title='\\nMetric norma geo:{:.2f} ; cyclo: {:.2f}'.format(ds.metric_norma_geo.mean('s_obs'), ds.metric_norma_var.mean('s_obs')),\n",
    "           plot=False,\n",
    "           save_name='Scene_compare_fieldfilter_{}km'.format(filter),\n",
    "           save_dir= '/home/bouxdecl/Documents/MEOM_internship_2024/save_plots/save_plots_onescene_differentfieldfilter'\n",
    "           )"
   ]
  },
  {
   "cell_type": "code",
   "execution_count": 11,
   "id": "36d4d761",
   "metadata": {},
   "outputs": [
    {
     "name": "stderr",
     "output_type": "stream",
     "text": [
      "/home/bouxdecl/miniconda3/envs/gdp6h_duacs_jaxparrow/lib/python3.10/site-packages/cartopy/mpl/geoaxes.py:1642: UserWarning: The following kwargs were not used by contour: 'label'\n",
      "  result = super().contourf(*args, **kwargs)\n"
     ]
    }
   ],
   "source": [
    "i = 6\n",
    "\n",
    "ds    = scenes_2km.isel(scene=i)\n",
    "field = ds_swot_24h_2km\n",
    "filter= 2\n",
    "\n",
    "plot_scene(ds, field, \n",
    "           \n",
    "           field_vec='both', time_point=5, points_hours=10, \n",
    "           \n",
    "           add_title='\\nMetric norma geo:{:.2f} ; cyclo: {:.2f}'.format(ds.metric_norma_geo.mean('s_obs'), ds.metric_norma_var.mean('s_obs')),\n",
    "           plot=False,\n",
    "           save_name='Scene_compare_fieldfilter_{}km'.format(filter),\n",
    "           save_dir= '/home/bouxdecl/Documents/MEOM_internship_2024/save_plots/save_plots_onescene_differentfieldfilter'\n",
    "           )"
   ]
  },
  {
   "cell_type": "code",
   "execution_count": 7,
   "id": "5b6ab0dc",
   "metadata": {},
   "outputs": [
    {
     "name": "stderr",
     "output_type": "stream",
     "text": [
      "/home/bouxdecl/miniconda3/envs/gdp6h_duacs_jaxparrow/lib/python3.10/site-packages/cartopy/mpl/geoaxes.py:1642: UserWarning: The following kwargs were not used by contour: 'label'\n",
      "  result = super().contourf(*args, **kwargs)\n"
     ]
    }
   ],
   "source": [
    "i = 6\n",
    "\n",
    "ds    = scenes_3point5km.isel(scene=i)\n",
    "field = ds_swot_3point5km\n",
    "filter= 3\n",
    "\n",
    "plot_scene(ds, field, \n",
    "           \n",
    "           field_vec='both', time_point=5, points_hours=10, \n",
    "           \n",
    "           add_title='\\nMetric norma geo:{:.2f} ; cyclo: {:.2f}'.format(ds.metric_norma_geo.mean('s_obs'), ds.metric_norma_var.mean('s_obs')),\n",
    "           plot=False,\n",
    "           save_name='Scene_compare_fieldfilter_{}km'.format(filter),\n",
    "           save_dir= '/home/bouxdecl/Documents/MEOM_internship_2024/save_plots/save_plots_onescene_differentfieldfilter'\n",
    "           )"
   ]
  },
  {
   "cell_type": "code",
   "execution_count": 8,
   "id": "80e339b4",
   "metadata": {},
   "outputs": [
    {
     "name": "stderr",
     "output_type": "stream",
     "text": [
      "/home/bouxdecl/miniconda3/envs/gdp6h_duacs_jaxparrow/lib/python3.10/site-packages/cartopy/mpl/geoaxes.py:1642: UserWarning: The following kwargs were not used by contour: 'label'\n",
      "  result = super().contourf(*args, **kwargs)\n"
     ]
    }
   ],
   "source": [
    "i = 6\n",
    "\n",
    "ds    = scenes_5km.isel(scene=i)\n",
    "field = ds_swot_5km\n",
    "filter= 5\n",
    "\n",
    "plot_scene(ds, field, \n",
    "           \n",
    "           field_vec='both', time_point=5, points_hours=10, \n",
    "           \n",
    "           add_title='\\nMetric norma geo:{:.2f} ; cyclo: {:.2f}'.format(ds.metric_norma_geo.mean('s_obs'), ds.metric_norma_var.mean('s_obs')),\n",
    "           plot=False,\n",
    "           save_name='Scene_compare_fieldfilter_{}km'.format(filter),\n",
    "           save_dir= '/home/bouxdecl/Documents/MEOM_internship_2024/save_plots/save_plots_onescene_differentfieldfilter'\n",
    "           )"
   ]
  },
  {
   "cell_type": "code",
   "execution_count": null,
   "id": "b142b41f",
   "metadata": {},
   "outputs": [],
   "source": []
  },
  {
   "cell_type": "code",
   "execution_count": null,
   "id": "98e0b496",
   "metadata": {},
   "outputs": [],
   "source": []
  }
 ],
 "metadata": {
  "kernelspec": {
   "display_name": "Python 3 (ipykernel)",
   "language": "python",
   "name": "python3"
  },
  "language_info": {
   "codemirror_mode": {
    "name": "ipython",
    "version": 3
   },
   "file_extension": ".py",
   "mimetype": "text/x-python",
   "name": "python",
   "nbconvert_exporter": "python",
   "pygments_lexer": "ipython3",
   "version": "3.10.14"
  }
 },
 "nbformat": 4,
 "nbformat_minor": 5
}
